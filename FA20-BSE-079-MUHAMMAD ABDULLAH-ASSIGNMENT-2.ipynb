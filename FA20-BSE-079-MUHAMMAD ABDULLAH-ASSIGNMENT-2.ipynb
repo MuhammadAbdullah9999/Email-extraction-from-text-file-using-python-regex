{
 "cells": [
  {
   "cell_type": "code",
   "execution_count": 158,
   "metadata": {
    "scrolled": true
   },
   "outputs": [
    {
     "data": {
      "text/plain": [
       "'From r  Thu Oct 31 08:11:39 2002\\nReturn-Path: <bensul2004nng@spinfinder.com>\\nX-Sieve: cmu-sieve 2.0\\nReturn-Path: <bensul2004nng@spinfinder.com>\\nMessage-Id: <200210311310.g9VDANt24674@bloodwork.mr.itd.UM>\\nFrom: \"Mr. Ben Suleman\" <bensul2004nng@spinfinder.com>\\nDate: Thu, 31 Oct 2002 05:10:00\\nTo: R@M\\nSubject: URGENT ASSISTANCE /RELATIONSHIP (P)\\nMIME-Version: 1.0\\nContent-Type: text/plain;charset=\"iso-8859-1\"\\nContent-Transfer-Encoding: 7bit\\nStatus: O\\n\\nDear Friend,\\n\\nI am Mr. Ben Suleman a custom officer and work as Assistant controller of the Customs and Excise department Of the Federal Ministry of Internal Affairs stationed at the Murtala Mohammed International Airport, Ikeja, Lagos-Nigeria.\\n\\nAfter the sudden death of the former Head of state of Nigeria General Sanni Abacha on June 8th 1998 his aides and immediate members of his family were arrested while trying to escape from Nigeria in a Chartered jet to Saudi Arabia with 6 trunk boxes Marked \"Diplomatic Baggage\". Acting on a tip-off as they attempted to board the Air Craft,my officials carried out a thorough search on the air craft and discovered that the 6 trunk boxes contained foreign currencies amounting to US$197,570,000.00(One Hundred and  Ninety-Seven Million Five Hundred Seventy Thousand United States Dollars).\\n\\nI declared only (5) five boxes to the government and withheld one (1) in my custody containing the sum of (US$30,000,000.00) Thirty Million United States Dollars Only, which has been disguised to prevent their being discovered during transportation process.Due to several media reports on the late head of state about all the money him and his co-government officials stole from our government treasury amounting\\nto US$55 Billion Dollars (ref:ngrguardiannews.com) of July 2nd 1999. Even the London times of July 1998 reported that General Abacha has over US$3.Billion dollars in one account overseas. We decided to conceal this one (1)box till the situation is calm and quite on the issue. The box was thus deposited with a security company here in Nigeria and tagged as \"Precious Stones and Jewellry\" in other that its\\ncontent will not be discovered. Now that all is calm, we (myself and two of my colleagues in the operations team) are now ready to move this box out of the country through a diplomatic arrangement which is the safest means. \\n\\nHowever as government officials the Civil Service Code of Conduct does not allow us by law to operate any foreign account or own foreign investment and the amount of money that can be found in our account\\ncannot be more than our salary on the average, thus our handicapp and our need for your assistance to help collect and keep safely in your account this money.\\n\\nTherefore we want you to assist us in moving this money out of Nigeria. We shall definitely compensate you handsomely for the assistance. We can do this by instructing the Security Company here in Nigeria to\\nmove the consignment to their affiliate branch office outside Nigeria through diplomatic means and the consignment will be termed as Precious Stones and Jewelleries\" which you bought during your visit to Nigeria and is being transfered to your country from here for safe keeping. Then we can arrange to meet at the destination country to take the delivery of the consignment. You will thereafter open an account there and lodge the Money there and gradually instruct remittance to your Country. \\n\\nThis business is 100% risk free for you so please treat this matter with utmost confidentiality .If you indicate your interest to assist us please just e-mail me for more Explanation on how we plan to execute the transaction.\\n\\nExpecting your response urgently.\\n\\nBest regards,\\n\\nMr. Ben Suleman\\n\\nFrom r  Thu Oct 31 17:27:16 2002\\nReturn-Path: <obong_715@epatra.com>\\nX-Sieve: cmu-sieve 2.0\\nReturn-Path: <obong_715@epatra.com>\\nMessage-Id: <200210312227.g9VMQvDj017948@bluewhale.cs.CU>\\nFrom: \"PRINCE OBONG ELEME\" <obong_715@epatra.com>\\nReply-To: obong_715@epatra.com\\nTo: webmaster@aclweb.org\\nDate: Thu, 31 Oct 2002 22:17:55 +0100\\nSubject: GOOD DAY TO YOU\\nX-Mailer: Microsoft Outlook Express 5.00.2919.6900DM\\nMIME-Version: 1.0\\nContent-Type: text/plain; charset=\"us-ascii\"\\nContent-Transfer-Encoding: 8bit\\nX-MIME-Autoconverted: from quoted-printable to 8bit by sideshowmel.si.UM id g9VMRBW20642\\nStatus: RO\\n\\nFROM HIS ROYAL MAJESTY (HRM) CROWN RULER OF ELEME KINGDOM \\nCHIEF DANIEL ELEME, PHD, EZE 1 OF ELEME.E-MAIL \\nADDRESS:obong_715@epatra.com  \\n\\nATTENTION:PRESIDENT,CEO Sir/ Madam. \\n\\nThis letter might surprise you because we have met\\nneither in person nor by correspondence. But I believe\\nit is one day that you got to know somebody either in\\nphysical or through correspondence. \\n\\nI got your contact through discreet inquiry from the\\nchambers of commerce and industry of your country on\\nthe net, you and your organization were revealed as\\nbeing quite astute in private entrepreneurship, one\\nhas no doubt in your ability to handle a financialbusiness transaction. \\n\\nHowever, I am the first son of His Royal\\nmajesty,Obong.D. Eleme , and the traditional Ruler of\\nEleme Province in the oil producing area of River\\nState of Nigeria. I am making this contact to you in\\nrespect of US$60,000,000.00 (Sixty Million United\\nState Dollars), which I inherited, from my latefather. \\n\\nThis money was accumulated from royalties paid to my\\nfather as compensation by the oil firms located in our\\narea as a result of oil presence on our land, which\\nhamper agriculture, which is our major source oflivelihood. \\n\\nUnfortunately my father died from protracted\\ndiabetes.But before his death he called my attention\\nand informed me that he lodged some funds on a two\\nboxes with a security firm with an open beneficiary\\nstatus. The lodgment security code number was also\\nrevealed to me, he then advised me to look for a\\nreliable business partner abroad, that will assist me\\nin investing the money in a lucrative business as a\\nresult of economic instability in Nigeria. So this is\\nthe main reason why I am contacting you for us to move\\nthis money from the security firm to any Country of\\nyour choice for investment purpose. \\n\\nSo I will like you to be the ultimate beneficiary, so\\nthat the funds can be moved in your name and\\nparticulars to any Country of your choice where it\\nwill be claimed and invested. Hence my father have had\\nintimated the security firm personnel that the\\nbeneficiary of the box is his foreign partner whose\\nparticulars will be forwarded to the firm when due. \\n\\nBut I will guide you Accordingly. As soon as the funds\\nreach, I will then come over to meet you in person, so\\nthat we can discuss physically on investment\\npotentials. Based on this assistance my Family and I\\nhave unanimously decided to give you 30% of the total\\nmoney, 5% for Charity home, 10% for expenses, which\\nmay arise during this transaction, Fax and phone bills\\ninclusive. The balance of 55% you will invest andmanaged for my Family. \\n\\nI hereby guarantee you that this is not government\\nmoney, it is not drug money and it is not money from\\narms deal. Though you have to maintain high degree of\\nconfidentiality on this matter. I will give more\\ndetails about the proceedings of this transaction as\\nsoon as I receive your favorable reply. \\n\\nPlease reply to my Email Address:obong_715@epatra.com\\nI hope this will be the beginning of a prosperous\\nrelationship between my family and your family. \\n\\nNevertheless if you are for any reason not interested,\\nkindly inform me immediately so that I will look foranother contact. \\n\\nI am waiting for your quick response. \\n\\nYours faithfully, \\n\\nPrince Obong Abbot '"
      ]
     },
     "execution_count": 158,
     "metadata": {},
     "output_type": "execute_result"
    }
   ],
   "source": [
    "#reading file\n",
    "file=open('test_emails.txt','r')\n",
    "file.read()"
   ]
  },
  {
   "cell_type": "code",
   "execution_count": 165,
   "metadata": {},
   "outputs": [],
   "source": [
    "import re"
   ]
  },
  {
   "cell_type": "code",
   "execution_count": 166,
   "metadata": {},
   "outputs": [
    {
     "data": {
      "text/plain": [
       "'From r  Thu Oct 31 08:11:39 2002\\nReturn-Path: <bensul2004nng@spinfinder.com>\\nX-Sieve: cmu-sieve 2.0\\nReturn-Path: <bensul2004nng@spinfinder.com>\\nMessage-Id: <200210311310.g9VDANt24674@bloodwork.mr.itd.UM>\\nFrom: \"Mr. Ben Suleman\" <bensul2004nng@spinfinder.com>\\nDate: Thu, 31 Oct 2002 05:10:00\\nTo: R@M\\nSubject: URGENT ASSISTANCE /RELATIONSHIP (P)\\nMIME-Version: 1.0\\nContent-Type: text/plain;charset=\"iso-8859-1\"\\nContent-Transfer-Encoding: 7bit\\nStatus: O\\n\\nDear Friend,\\n\\nI am Mr. Ben Suleman a custom officer and work as Assistant controller of the Customs and Excise department Of the Federal Ministry of Internal Affairs stationed at the Murtala Mohammed International Airport, Ikeja, Lagos-Nigeria.\\n\\nAfter the sudden death of the former Head of state of Nigeria General Sanni Abacha on June 8th 1998 his aides and immediate members of his family were arrested while trying to escape from Nigeria in a Chartered jet to Saudi Arabia with 6 trunk boxes Marked \"Diplomatic Baggage\". Acting on a tip-off as they attempted to board the Air Craft,my officials carried out a thorough search on the air craft and discovered that the 6 trunk boxes contained foreign currencies amounting to US$197,570,000.00(One Hundred and  Ninety-Seven Million Five Hundred Seventy Thousand United States Dollars).\\n\\nI declared only (5) five boxes to the government and withheld one (1) in my custody containing the sum of (US$30,000,000.00) Thirty Million United States Dollars Only, which has been disguised to prevent their being discovered during transportation process.Due to several media reports on the late head of state about all the money him and his co-government officials stole from our government treasury amounting\\nto US$55 Billion Dollars (ref:ngrguardiannews.com) of July 2nd 1999. Even the London times of July 1998 reported that General Abacha has over US$3.Billion dollars in one account overseas. We decided to conceal this one (1)box till the situation is calm and quite on the issue. The box was thus deposited with a security company here in Nigeria and tagged as \"Precious Stones and Jewellry\" in other that its\\ncontent will not be discovered. Now that all is calm, we (myself and two of my colleagues in the operations team) are now ready to move this box out of the country through a diplomatic arrangement which is the safest means. \\n\\nHowever as government officials the Civil Service Code of Conduct does not allow us by law to operate any foreign account or own foreign investment and the amount of money that can be found in our account\\ncannot be more than our salary on the average, thus our handicapp and our need for your assistance to help collect and keep safely in your account this money.\\n\\nTherefore we want you to assist us in moving this money out of Nigeria. We shall definitely compensate you handsomely for the assistance. We can do this by instructing the Security Company here in Nigeria to\\nmove the consignment to their affiliate branch office outside Nigeria through diplomatic means and the consignment will be termed as Precious Stones and Jewelleries\" which you bought during your visit to Nigeria and is being transfered to your country from here for safe keeping. Then we can arrange to meet at the destination country to take the delivery of the consignment. You will thereafter open an account there and lodge the Money there and gradually instruct remittance to your Country. \\n\\nThis business is 100% risk free for you so please treat this matter with utmost confidentiality .If you indicate your interest to assist us please just e-mail me for more Explanation on how we plan to execute the transaction.\\n\\nExpecting your response urgently.\\n\\nBest regards,\\n\\nMr. Ben Suleman\\n\\nFrom r  Thu Oct 31 17:27:16 2002\\nReturn-Path: <obong_715@epatra.com>\\nX-Sieve: cmu-sieve 2.0\\nReturn-Path: <obong_715@epatra.com>\\nMessage-Id: <200210312227.g9VMQvDj017948@bluewhale.cs.CU>\\nFrom: \"PRINCE OBONG ELEME\" <obong_715@epatra.com>\\nReply-To: obong_715@epatra.com\\nTo: webmaster@aclweb.org\\nDate: Thu, 31 Oct 2002 22:17:55 +0100\\nSubject: GOOD DAY TO YOU\\nX-Mailer: Microsoft Outlook Express 5.00.2919.6900DM\\nMIME-Version: 1.0\\nContent-Type: text/plain; charset=\"us-ascii\"\\nContent-Transfer-Encoding: 8bit\\nX-MIME-Autoconverted: from quoted-printable to 8bit by sideshowmel.si.UM id g9VMRBW20642\\nStatus: RO\\n\\nFROM HIS ROYAL MAJESTY (HRM) CROWN RULER OF ELEME KINGDOM \\nCHIEF DANIEL ELEME, PHD, EZE 1 OF ELEME.E-MAIL \\nADDRESS:obong_715@epatra.com  \\n\\nATTENTION:PRESIDENT,CEO Sir/ Madam. \\n\\nThis letter might surprise you because we have met\\nneither in person nor by correspondence. But I believe\\nit is one day that you got to know somebody either in\\nphysical or through correspondence. \\n\\nI got your contact through discreet inquiry from the\\nchambers of commerce and industry of your country on\\nthe net, you and your organization were revealed as\\nbeing quite astute in private entrepreneurship, one\\nhas no doubt in your ability to handle a financialbusiness transaction. \\n\\nHowever, I am the first son of His Royal\\nmajesty,Obong.D. Eleme , and the traditional Ruler of\\nEleme Province in the oil producing area of River\\nState of Nigeria. I am making this contact to you in\\nrespect of US$60,000,000.00 (Sixty Million United\\nState Dollars), which I inherited, from my latefather. \\n\\nThis money was accumulated from royalties paid to my\\nfather as compensation by the oil firms located in our\\narea as a result of oil presence on our land, which\\nhamper agriculture, which is our major source oflivelihood. \\n\\nUnfortunately my father died from protracted\\ndiabetes.But before his death he called my attention\\nand informed me that he lodged some funds on a two\\nboxes with a security firm with an open beneficiary\\nstatus. The lodgment security code number was also\\nrevealed to me, he then advised me to look for a\\nreliable business partner abroad, that will assist me\\nin investing the money in a lucrative business as a\\nresult of economic instability in Nigeria. So this is\\nthe main reason why I am contacting you for us to move\\nthis money from the security firm to any Country of\\nyour choice for investment purpose. \\n\\nSo I will like you to be the ultimate beneficiary, so\\nthat the funds can be moved in your name and\\nparticulars to any Country of your choice where it\\nwill be claimed and invested. Hence my father have had\\nintimated the security firm personnel that the\\nbeneficiary of the box is his foreign partner whose\\nparticulars will be forwarded to the firm when due. \\n\\nBut I will guide you Accordingly. As soon as the funds\\nreach, I will then come over to meet you in person, so\\nthat we can discuss physically on investment\\npotentials. Based on this assistance my Family and I\\nhave unanimously decided to give you 30% of the total\\nmoney, 5% for Charity home, 10% for expenses, which\\nmay arise during this transaction, Fax and phone bills\\ninclusive. The balance of 55% you will invest andmanaged for my Family. \\n\\nI hereby guarantee you that this is not government\\nmoney, it is not drug money and it is not money from\\narms deal. Though you have to maintain high degree of\\nconfidentiality on this matter. I will give more\\ndetails about the proceedings of this transaction as\\nsoon as I receive your favorable reply. \\n\\nPlease reply to my Email Address:obong_715@epatra.com\\nI hope this will be the beginning of a prosperous\\nrelationship between my family and your family. \\n\\nNevertheless if you are for any reason not interested,\\nkindly inform me immediately so that I will look foranother contact. \\n\\nI am waiting for your quick response. \\n\\nYours faithfully, \\n\\nPrince Obong Abbot '"
      ]
     },
     "execution_count": 166,
     "metadata": {},
     "output_type": "execute_result"
    }
   ],
   "source": [
    "#reading content of the file\n",
    "file=open('test_emails.txt','r')\n",
    "content=file.read()\n",
    "content"
   ]
  },
  {
   "cell_type": "code",
   "execution_count": 172,
   "metadata": {},
   "outputs": [
    {
     "name": "stdout",
     "output_type": "stream",
     "text": [
      "['From: \"Mr. Ben Suleman\" <bensul2004nng@spinfinder.com>', 'From: \"PRINCE OBONG ELEME\" <obong_715@epatra.com>']\n"
     ]
    }
   ],
   "source": [
    "file=open('test_emails.txt','r')\n",
    "content=file.read()\n",
    "# print(content)\n",
    "fromText=re.findall(r'From:.*',content)\n",
    "print(fromText)"
   ]
  },
  {
   "cell_type": "code",
   "execution_count": 173,
   "metadata": {},
   "outputs": [
    {
     "name": "stdout",
     "output_type": "stream",
     "text": [
      "[['\"Mr. Ben Suleman\"'], ['\"PRINCE OBONG ELEME\"']]\n"
     ]
    }
   ],
   "source": [
    "name=[]\n",
    "for name1 in fromText:\n",
    "    name.append(re.findall(r'[\\\"][A-Z].*[\\\"]',name1))\n",
    "print(name)"
   ]
  },
  {
   "cell_type": "code",
   "execution_count": 177,
   "metadata": {},
   "outputs": [
    {
     "name": "stdout",
     "output_type": "stream",
     "text": [
      "[['bensul2004nng@spinfinder.com'], ['obong_715@epatra.com']]\n"
     ]
    }
   ],
   "source": [
    "file=open('test_emails.txt','r')\n",
    "content=file.read()\n",
    "\n",
    "fromText=re.findall(r'From:.*',content)\n",
    "\n",
    "email1=[]\n",
    "for line in fromText:\n",
    "    email1.append(re.findall(r'\\w\\S*@.*\\w',line))\n",
    "#     print(email1)\n",
    "print(email1)"
   ]
  },
  {
   "cell_type": "code",
   "execution_count": 182,
   "metadata": {},
   "outputs": [
    {
     "name": "stdout",
     "output_type": "stream",
     "text": [
      "[['bensul2004nng@'], ['obong_715@']]\n"
     ]
    }
   ],
   "source": [
    "firstEmail=[]\n",
    "\n",
    "for email in fromText:\n",
    "    firstEmail.append(re.findall(r'\\w\\S*@',email))\n",
    "\n",
    "print(firstEmail)"
   ]
  },
  {
   "cell_type": "code",
   "execution_count": 184,
   "metadata": {},
   "outputs": [
    {
     "name": "stdout",
     "output_type": "stream",
     "text": [
      "[['@spinfinder.com'], ['@epatra.com']]\n"
     ]
    }
   ],
   "source": [
    "lastEmail=[]\n",
    "\n",
    "for email in fromText:\n",
    "    lastEmail.append(re.findall(r'@.*\\w',email))\n",
    "\n",
    "print(lastEmail)\n",
    "# l_email=re.findall(r'[a-z]{6,10}\\.com',content)\n",
    "# l_email"
   ]
  },
  {
   "cell_type": "code",
   "execution_count": 188,
   "metadata": {},
   "outputs": [
    {
     "name": "stdout",
     "output_type": "stream",
     "text": [
      "From r  Thu Oct 31 08:11:39 2002\n",
      "Return-Path: <bensul2004nng@spinfinder.com>\n",
      "X-Sieve: cmu-sieve 2.0\n",
      "Return-Path: <bensul2004nng@spinfinder.com>\n",
      "Message-Id: <200210311310.g9VDANt24674@bloodwork.mr.itd.UM>\n",
      "From: \"Mr. Ben Suleman\" <bensul2004nng@spinfinder.com>\n",
      "Date: Thu, 31 Oct 2002 05:10:00\n",
      "To: R@M\n",
      "Subject: URGENT ASSISTANCE /RELATIONSHIP (P)\n",
      "MIME-Version: 1.0\n",
      "Content-Type: text/plain;charset=\"iso-8859-1\"\n",
      "Content-Transfer-Encoding: 7bit\n",
      "Status: O\n",
      "\n",
      "Dear Friend,\n",
      "\n",
      "I am Mr. Ben Suleman a custom officer and work as Assistant controller of the Customs and Excise department Of the Federal Ministry of Internal Affairs stationed at the Murtala Mohammed International Airport, Ikeja, Lagos-Nigeria.\n",
      "\n",
      "After the sudden death of the former Head of state of Nigeria General Sanni Abacha on June 8th 1998 his aides and immediate members of his family were arrested while trying to escape from Nigeria in a Chartered jet to Saudi Arabia with 6 trunk boxes Marked \"Diplomatic Baggage\". Acting on a tip-off as they attempted to board the Air Craft,my officials carried out a thorough search on the air craft and discovered that the 6 trunk boxes contained foreign currencies amounting to US$197,570,000.00(One Hundred and  Ninety-Seven Million Five Hundred Seventy Thousand United States Dollars).\n",
      "\n",
      "I declared only (5) five boxes to the government and withheld one (1) in my custody containing the sum of (US$30,000,000.00) Thirty Million United States Dollars Only, which has been disguised to prevent their being discovered during transportation process.Due to several media reports on the late head of state about all the money him and his co-government officials stole from our government treasury amounting\n",
      "to US$55 Billion Dollars (ref:ngrguardiannews.com) of July 2nd 1999. Even the London times of July 1998 reported that General Abacha has over US$3.Billion dollars in one account overseas. We decided to conceal this one (1)box till the situation is calm and quite on the issue. The box was thus deposited with a security company here in Nigeria and tagged as \"Precious Stones and Jewellry\" in other that its\n",
      "content will not be discovered. Now that all is calm, we (myself and two of my colleagues in the operations team) are now ready to move this box out of the country through a diplomatic arrangement which is the safest means.\n",
      "\n",
      "However as government officials the Civil Service Code of Conduct does not allow us by law to operate any foreign account or own foreign investment and the amount of money that can be found in our account\n",
      "cannot be more than our salary on the average, thus our handicapp and our need for your assistance to help collect and keep safely in your account this money.\n",
      "\n",
      "Therefore we want you to assist us in moving this money out of Nigeria. We shall definitely compensate you handsomely for the assistance. We can do this by instructing the Security Company here in Nigeria to\n",
      "move the consignment to their affiliate branch office outside Nigeria through diplomatic means and the consignment will be termed as Precious Stones and Jewelleries\" which you bought during your visit to Nigeria and is being transfered to your country from here for safe keeping. Then we can arrange to meet at the destination country to take the delivery of the consignment. You will thereafter open an account there and lodge the Money there and gradually instruct remittance to your Country.\n",
      "\n",
      "This business is 100% risk free for you so please treat this matter with utmost confidentiality .If you indicate your interest to assist us please just e-mail me for more Explanation on how we plan to execute the transaction.\n",
      "\n",
      "Expecting your response urgently.\n",
      "\n",
      "Best regards,\n",
      "\n",
      "Mr. Ben Suleman\n",
      "\n",
      "From r  Thu Oct 31 17:27:16 2002\n",
      "Return-Path: <obong_715@epatra.com>\n",
      "X-Sieve: cmu-sieve 2.0\n",
      "Return-Path: <obong_715@epatra.com>\n",
      "Message-Id: <200210312227.g9VMQvDj017948@bluewhale.cs.CU>\n",
      "From: \"PRINCE OBONG ELEME\" <obong_715@epatra.com>\n",
      "Reply-To: obong_715@epatra.com\n",
      "To: webmaster@aclweb.org\n",
      "Date: Thu, 31 Oct 2002 22:17:55 +0100\n",
      "Subject: GOOD DAY TO YOU\n",
      "X-Mailer: Microsoft Outlook Express 5.00.2919.6900DM\n",
      "MIME-Version: 1.0\n",
      "Content-Type: text/plain; charset=\"us-ascii\"\n",
      "Content-Transfer-Encoding: 8bit\n",
      "X-MIME-Autoconverted: from quoted-printable to 8bit by sideshowmel.si.UM id g9VMRBW20642\n",
      "Status: RO\n",
      "\n",
      "FROM HIS ROYAL MAJESTY (HRM) CROWN RULER OF ELEME KINGDOM\n",
      "CHIEF DANIEL ELEME, PHD, EZE 1 OF ELEME.E-MAIL\n",
      "ADDRESS:obong_715@epatra.com\n",
      "\n",
      "ATTENTION:PRESIDENT,CEO Sir/ Madam.\n",
      "\n",
      "This letter might surprise you because we have met\n",
      "neither in person nor by correspondence. But I believe\n",
      "it is one day that you got to know somebody either in\n",
      "physical or through correspondence.\n",
      "\n",
      "I got your contact through discreet inquiry from the\n",
      "chambers of commerce and industry of your country on\n",
      "the net, you and your organization were revealed as\n",
      "being quite astute in private entrepreneurship, one\n",
      "has no doubt in your ability to handle a financialbusiness transaction.\n",
      "\n",
      "However, I am the first son of His Royal\n",
      "majesty,Obong.D. Eleme , and the traditional Ruler of\n",
      "Eleme Province in the oil producing area of River\n",
      "State of Nigeria. I am making this contact to you in\n",
      "respect of US$60,000,000.00 (Sixty Million United\n",
      "State Dollars), which I inherited, from my latefather.\n",
      "\n",
      "This money was accumulated from royalties paid to my\n",
      "father as compensation by the oil firms located in our\n",
      "area as a result of oil presence on our land, which\n",
      "hamper agriculture, which is our major source oflivelihood.\n",
      "\n",
      "Unfortunately my father died from protracted\n",
      "diabetes.But before his death he called my attention\n",
      "and informed me that he lodged some funds on a two\n",
      "boxes with a security firm with an open beneficiary\n",
      "status. The lodgment security code number was also\n",
      "revealed to me, he then advised me to look for a\n",
      "reliable business partner abroad, that will assist me\n",
      "in investing the money in a lucrative business as a\n",
      "result of economic instability in Nigeria. So this is\n",
      "the main reason why I am contacting you for us to move\n",
      "this money from the security firm to any Country of\n",
      "your choice for investment purpose.\n",
      "\n",
      "So I will like you to be the ultimate beneficiary, so\n",
      "that the funds can be moved in your name and\n",
      "particulars to any Country of your choice where it\n",
      "will be claimed and invested. Hence my father have had\n",
      "intimated the security firm personnel that the\n",
      "beneficiary of the box is his foreign partner whose\n",
      "particulars will be forwarded to the firm when due.\n",
      "\n",
      "But I will guide you Accordingly. As soon as the funds\n",
      "reach, I will then come over to meet you in person, so\n",
      "that we can discuss physically on investment\n",
      "potentials. Based on this assistance my Family and I\n",
      "have unanimously decided to give you 30% of the total\n",
      "money, 5% for Charity home, 10% for expenses, which\n",
      "may arise during this transaction, Fax and phone bills\n",
      "inclusive. The balance of 55% you will invest andmanaged for my Family.\n",
      "\n",
      "I hereby guarantee you that this is not government\n",
      "money, it is not drug money and it is not money from\n",
      "arms deal. Though you have to maintain high degree of\n",
      "confidentiality on this matter. I will give more\n",
      "details about the proceedings of this transaction as\n",
      "soon as I receive your favorable reply.\n",
      "\n",
      "Please reply to my Email Address:obong_715@epatra.com\n",
      "I hope this will be the beginning of a prosperous\n",
      "relationship between my family and your family.\n",
      "\n",
      "Nevertheless if you are for any reason not interested,\n",
      "kindly inform me immediately so that I will look foranother contact.\n",
      "\n",
      "I am waiting for your quick response.\n",
      "\n",
      "Yours faithfully,\n",
      "\n",
      "Prince Obong Abbot\n"
     ]
    }
   ],
   "source": [
    "file=open('test_emails.txt','r')\n",
    "content=file.readlines()\n",
    "\n",
    "data=[]\n",
    "for x in content:\n",
    "    print(x.strip())\n",
    "    data.append(x.strip())"
   ]
  },
  {
   "cell_type": "code",
   "execution_count": 189,
   "metadata": {},
   "outputs": [
    {
     "data": {
      "text/plain": [
       "['From r  Thu Oct 31 08:11:39 2002',\n",
       " 'Return-Path: <bensul2004nng@spinfinder.com>',\n",
       " 'X-Sieve: cmu-sieve 2.0',\n",
       " 'Return-Path: <bensul2004nng@spinfinder.com>',\n",
       " 'Message-Id: <200210311310.g9VDANt24674@bloodwork.mr.itd.UM>',\n",
       " 'From: \"Mr. Ben Suleman\" <bensul2004nng@spinfinder.com>',\n",
       " 'Date: Thu, 31 Oct 2002 05:10:00',\n",
       " 'To: R@M',\n",
       " 'Subject: URGENT ASSISTANCE /RELATIONSHIP (P)',\n",
       " 'MIME-Version: 1.0',\n",
       " 'Content-Type: text/plain;charset=\"iso-8859-1\"',\n",
       " 'Content-Transfer-Encoding: 7bit',\n",
       " 'Status: O',\n",
       " '',\n",
       " 'Dear Friend,',\n",
       " '',\n",
       " 'I am Mr. Ben Suleman a custom officer and work as Assistant controller of the Customs and Excise department Of the Federal Ministry of Internal Affairs stationed at the Murtala Mohammed International Airport, Ikeja, Lagos-Nigeria.',\n",
       " '',\n",
       " 'After the sudden death of the former Head of state of Nigeria General Sanni Abacha on June 8th 1998 his aides and immediate members of his family were arrested while trying to escape from Nigeria in a Chartered jet to Saudi Arabia with 6 trunk boxes Marked \"Diplomatic Baggage\". Acting on a tip-off as they attempted to board the Air Craft,my officials carried out a thorough search on the air craft and discovered that the 6 trunk boxes contained foreign currencies amounting to US$197,570,000.00(One Hundred and  Ninety-Seven Million Five Hundred Seventy Thousand United States Dollars).',\n",
       " '',\n",
       " 'I declared only (5) five boxes to the government and withheld one (1) in my custody containing the sum of (US$30,000,000.00) Thirty Million United States Dollars Only, which has been disguised to prevent their being discovered during transportation process.Due to several media reports on the late head of state about all the money him and his co-government officials stole from our government treasury amounting',\n",
       " 'to US$55 Billion Dollars (ref:ngrguardiannews.com) of July 2nd 1999. Even the London times of July 1998 reported that General Abacha has over US$3.Billion dollars in one account overseas. We decided to conceal this one (1)box till the situation is calm and quite on the issue. The box was thus deposited with a security company here in Nigeria and tagged as \"Precious Stones and Jewellry\" in other that its',\n",
       " 'content will not be discovered. Now that all is calm, we (myself and two of my colleagues in the operations team) are now ready to move this box out of the country through a diplomatic arrangement which is the safest means.',\n",
       " '',\n",
       " 'However as government officials the Civil Service Code of Conduct does not allow us by law to operate any foreign account or own foreign investment and the amount of money that can be found in our account',\n",
       " 'cannot be more than our salary on the average, thus our handicapp and our need for your assistance to help collect and keep safely in your account this money.',\n",
       " '',\n",
       " 'Therefore we want you to assist us in moving this money out of Nigeria. We shall definitely compensate you handsomely for the assistance. We can do this by instructing the Security Company here in Nigeria to',\n",
       " 'move the consignment to their affiliate branch office outside Nigeria through diplomatic means and the consignment will be termed as Precious Stones and Jewelleries\" which you bought during your visit to Nigeria and is being transfered to your country from here for safe keeping. Then we can arrange to meet at the destination country to take the delivery of the consignment. You will thereafter open an account there and lodge the Money there and gradually instruct remittance to your Country.',\n",
       " '',\n",
       " 'This business is 100% risk free for you so please treat this matter with utmost confidentiality .If you indicate your interest to assist us please just e-mail me for more Explanation on how we plan to execute the transaction.',\n",
       " '',\n",
       " 'Expecting your response urgently.',\n",
       " '',\n",
       " 'Best regards,',\n",
       " '',\n",
       " 'Mr. Ben Suleman',\n",
       " '',\n",
       " 'From r  Thu Oct 31 17:27:16 2002',\n",
       " 'Return-Path: <obong_715@epatra.com>',\n",
       " 'X-Sieve: cmu-sieve 2.0',\n",
       " 'Return-Path: <obong_715@epatra.com>',\n",
       " 'Message-Id: <200210312227.g9VMQvDj017948@bluewhale.cs.CU>',\n",
       " 'From: \"PRINCE OBONG ELEME\" <obong_715@epatra.com>',\n",
       " 'Reply-To: obong_715@epatra.com',\n",
       " 'To: webmaster@aclweb.org',\n",
       " 'Date: Thu, 31 Oct 2002 22:17:55 +0100',\n",
       " 'Subject: GOOD DAY TO YOU',\n",
       " 'X-Mailer: Microsoft Outlook Express 5.00.2919.6900DM',\n",
       " 'MIME-Version: 1.0',\n",
       " 'Content-Type: text/plain; charset=\"us-ascii\"',\n",
       " 'Content-Transfer-Encoding: 8bit',\n",
       " 'X-MIME-Autoconverted: from quoted-printable to 8bit by sideshowmel.si.UM id g9VMRBW20642',\n",
       " 'Status: RO',\n",
       " '',\n",
       " 'FROM HIS ROYAL MAJESTY (HRM) CROWN RULER OF ELEME KINGDOM',\n",
       " 'CHIEF DANIEL ELEME, PHD, EZE 1 OF ELEME.E-MAIL',\n",
       " 'ADDRESS:obong_715@epatra.com',\n",
       " '',\n",
       " 'ATTENTION:PRESIDENT,CEO Sir/ Madam.',\n",
       " '',\n",
       " 'This letter might surprise you because we have met',\n",
       " 'neither in person nor by correspondence. But I believe',\n",
       " 'it is one day that you got to know somebody either in',\n",
       " 'physical or through correspondence.',\n",
       " '',\n",
       " 'I got your contact through discreet inquiry from the',\n",
       " 'chambers of commerce and industry of your country on',\n",
       " 'the net, you and your organization were revealed as',\n",
       " 'being quite astute in private entrepreneurship, one',\n",
       " 'has no doubt in your ability to handle a financialbusiness transaction.',\n",
       " '',\n",
       " 'However, I am the first son of His Royal',\n",
       " 'majesty,Obong.D. Eleme , and the traditional Ruler of',\n",
       " 'Eleme Province in the oil producing area of River',\n",
       " 'State of Nigeria. I am making this contact to you in',\n",
       " 'respect of US$60,000,000.00 (Sixty Million United',\n",
       " 'State Dollars), which I inherited, from my latefather.',\n",
       " '',\n",
       " 'This money was accumulated from royalties paid to my',\n",
       " 'father as compensation by the oil firms located in our',\n",
       " 'area as a result of oil presence on our land, which',\n",
       " 'hamper agriculture, which is our major source oflivelihood.',\n",
       " '',\n",
       " 'Unfortunately my father died from protracted',\n",
       " 'diabetes.But before his death he called my attention',\n",
       " 'and informed me that he lodged some funds on a two',\n",
       " 'boxes with a security firm with an open beneficiary',\n",
       " 'status. The lodgment security code number was also',\n",
       " 'revealed to me, he then advised me to look for a',\n",
       " 'reliable business partner abroad, that will assist me',\n",
       " 'in investing the money in a lucrative business as a',\n",
       " 'result of economic instability in Nigeria. So this is',\n",
       " 'the main reason why I am contacting you for us to move',\n",
       " 'this money from the security firm to any Country of',\n",
       " 'your choice for investment purpose.',\n",
       " '',\n",
       " 'So I will like you to be the ultimate beneficiary, so',\n",
       " 'that the funds can be moved in your name and',\n",
       " 'particulars to any Country of your choice where it',\n",
       " 'will be claimed and invested. Hence my father have had',\n",
       " 'intimated the security firm personnel that the',\n",
       " 'beneficiary of the box is his foreign partner whose',\n",
       " 'particulars will be forwarded to the firm when due.',\n",
       " '',\n",
       " 'But I will guide you Accordingly. As soon as the funds',\n",
       " 'reach, I will then come over to meet you in person, so',\n",
       " 'that we can discuss physically on investment',\n",
       " 'potentials. Based on this assistance my Family and I',\n",
       " 'have unanimously decided to give you 30% of the total',\n",
       " 'money, 5% for Charity home, 10% for expenses, which',\n",
       " 'may arise during this transaction, Fax and phone bills',\n",
       " 'inclusive. The balance of 55% you will invest andmanaged for my Family.',\n",
       " '',\n",
       " 'I hereby guarantee you that this is not government',\n",
       " 'money, it is not drug money and it is not money from',\n",
       " 'arms deal. Though you have to maintain high degree of',\n",
       " 'confidentiality on this matter. I will give more',\n",
       " 'details about the proceedings of this transaction as',\n",
       " 'soon as I receive your favorable reply.',\n",
       " '',\n",
       " 'Please reply to my Email Address:obong_715@epatra.com',\n",
       " 'I hope this will be the beginning of a prosperous',\n",
       " 'relationship between my family and your family.',\n",
       " '',\n",
       " 'Nevertheless if you are for any reason not interested,',\n",
       " 'kindly inform me immediately so that I will look foranother contact.',\n",
       " '',\n",
       " 'I am waiting for your quick response.',\n",
       " '',\n",
       " 'Yours faithfully,',\n",
       " '',\n",
       " 'Prince Obong Abbot']"
      ]
     },
     "execution_count": 189,
     "metadata": {},
     "output_type": "execute_result"
    }
   ],
   "source": [
    "data"
   ]
  },
  {
   "cell_type": "code",
   "execution_count": 190,
   "metadata": {},
   "outputs": [],
   "source": [
    "data=list(filter(''.__ne__,data))"
   ]
  },
  {
   "cell_type": "code",
   "execution_count": 191,
   "metadata": {},
   "outputs": [
    {
     "data": {
      "text/plain": [
       "['From r  Thu Oct 31 08:11:39 2002',\n",
       " 'Return-Path: <bensul2004nng@spinfinder.com>',\n",
       " 'X-Sieve: cmu-sieve 2.0',\n",
       " 'Return-Path: <bensul2004nng@spinfinder.com>',\n",
       " 'Message-Id: <200210311310.g9VDANt24674@bloodwork.mr.itd.UM>',\n",
       " 'From: \"Mr. Ben Suleman\" <bensul2004nng@spinfinder.com>',\n",
       " 'Date: Thu, 31 Oct 2002 05:10:00',\n",
       " 'To: R@M',\n",
       " 'Subject: URGENT ASSISTANCE /RELATIONSHIP (P)',\n",
       " 'MIME-Version: 1.0',\n",
       " 'Content-Type: text/plain;charset=\"iso-8859-1\"',\n",
       " 'Content-Transfer-Encoding: 7bit',\n",
       " 'Status: O',\n",
       " 'Dear Friend,',\n",
       " 'I am Mr. Ben Suleman a custom officer and work as Assistant controller of the Customs and Excise department Of the Federal Ministry of Internal Affairs stationed at the Murtala Mohammed International Airport, Ikeja, Lagos-Nigeria.',\n",
       " 'After the sudden death of the former Head of state of Nigeria General Sanni Abacha on June 8th 1998 his aides and immediate members of his family were arrested while trying to escape from Nigeria in a Chartered jet to Saudi Arabia with 6 trunk boxes Marked \"Diplomatic Baggage\". Acting on a tip-off as they attempted to board the Air Craft,my officials carried out a thorough search on the air craft and discovered that the 6 trunk boxes contained foreign currencies amounting to US$197,570,000.00(One Hundred and  Ninety-Seven Million Five Hundred Seventy Thousand United States Dollars).',\n",
       " 'I declared only (5) five boxes to the government and withheld one (1) in my custody containing the sum of (US$30,000,000.00) Thirty Million United States Dollars Only, which has been disguised to prevent their being discovered during transportation process.Due to several media reports on the late head of state about all the money him and his co-government officials stole from our government treasury amounting',\n",
       " 'to US$55 Billion Dollars (ref:ngrguardiannews.com) of July 2nd 1999. Even the London times of July 1998 reported that General Abacha has over US$3.Billion dollars in one account overseas. We decided to conceal this one (1)box till the situation is calm and quite on the issue. The box was thus deposited with a security company here in Nigeria and tagged as \"Precious Stones and Jewellry\" in other that its',\n",
       " 'content will not be discovered. Now that all is calm, we (myself and two of my colleagues in the operations team) are now ready to move this box out of the country through a diplomatic arrangement which is the safest means.',\n",
       " 'However as government officials the Civil Service Code of Conduct does not allow us by law to operate any foreign account or own foreign investment and the amount of money that can be found in our account',\n",
       " 'cannot be more than our salary on the average, thus our handicapp and our need for your assistance to help collect and keep safely in your account this money.',\n",
       " 'Therefore we want you to assist us in moving this money out of Nigeria. We shall definitely compensate you handsomely for the assistance. We can do this by instructing the Security Company here in Nigeria to',\n",
       " 'move the consignment to their affiliate branch office outside Nigeria through diplomatic means and the consignment will be termed as Precious Stones and Jewelleries\" which you bought during your visit to Nigeria and is being transfered to your country from here for safe keeping. Then we can arrange to meet at the destination country to take the delivery of the consignment. You will thereafter open an account there and lodge the Money there and gradually instruct remittance to your Country.',\n",
       " 'This business is 100% risk free for you so please treat this matter with utmost confidentiality .If you indicate your interest to assist us please just e-mail me for more Explanation on how we plan to execute the transaction.',\n",
       " 'Expecting your response urgently.',\n",
       " 'Best regards,',\n",
       " 'Mr. Ben Suleman',\n",
       " 'From r  Thu Oct 31 17:27:16 2002',\n",
       " 'Return-Path: <obong_715@epatra.com>',\n",
       " 'X-Sieve: cmu-sieve 2.0',\n",
       " 'Return-Path: <obong_715@epatra.com>',\n",
       " 'Message-Id: <200210312227.g9VMQvDj017948@bluewhale.cs.CU>',\n",
       " 'From: \"PRINCE OBONG ELEME\" <obong_715@epatra.com>',\n",
       " 'Reply-To: obong_715@epatra.com',\n",
       " 'To: webmaster@aclweb.org',\n",
       " 'Date: Thu, 31 Oct 2002 22:17:55 +0100',\n",
       " 'Subject: GOOD DAY TO YOU',\n",
       " 'X-Mailer: Microsoft Outlook Express 5.00.2919.6900DM',\n",
       " 'MIME-Version: 1.0',\n",
       " 'Content-Type: text/plain; charset=\"us-ascii\"',\n",
       " 'Content-Transfer-Encoding: 8bit',\n",
       " 'X-MIME-Autoconverted: from quoted-printable to 8bit by sideshowmel.si.UM id g9VMRBW20642',\n",
       " 'Status: RO',\n",
       " 'FROM HIS ROYAL MAJESTY (HRM) CROWN RULER OF ELEME KINGDOM',\n",
       " 'CHIEF DANIEL ELEME, PHD, EZE 1 OF ELEME.E-MAIL',\n",
       " 'ADDRESS:obong_715@epatra.com',\n",
       " 'ATTENTION:PRESIDENT,CEO Sir/ Madam.',\n",
       " 'This letter might surprise you because we have met',\n",
       " 'neither in person nor by correspondence. But I believe',\n",
       " 'it is one day that you got to know somebody either in',\n",
       " 'physical or through correspondence.',\n",
       " 'I got your contact through discreet inquiry from the',\n",
       " 'chambers of commerce and industry of your country on',\n",
       " 'the net, you and your organization were revealed as',\n",
       " 'being quite astute in private entrepreneurship, one',\n",
       " 'has no doubt in your ability to handle a financialbusiness transaction.',\n",
       " 'However, I am the first son of His Royal',\n",
       " 'majesty,Obong.D. Eleme , and the traditional Ruler of',\n",
       " 'Eleme Province in the oil producing area of River',\n",
       " 'State of Nigeria. I am making this contact to you in',\n",
       " 'respect of US$60,000,000.00 (Sixty Million United',\n",
       " 'State Dollars), which I inherited, from my latefather.',\n",
       " 'This money was accumulated from royalties paid to my',\n",
       " 'father as compensation by the oil firms located in our',\n",
       " 'area as a result of oil presence on our land, which',\n",
       " 'hamper agriculture, which is our major source oflivelihood.',\n",
       " 'Unfortunately my father died from protracted',\n",
       " 'diabetes.But before his death he called my attention',\n",
       " 'and informed me that he lodged some funds on a two',\n",
       " 'boxes with a security firm with an open beneficiary',\n",
       " 'status. The lodgment security code number was also',\n",
       " 'revealed to me, he then advised me to look for a',\n",
       " 'reliable business partner abroad, that will assist me',\n",
       " 'in investing the money in a lucrative business as a',\n",
       " 'result of economic instability in Nigeria. So this is',\n",
       " 'the main reason why I am contacting you for us to move',\n",
       " 'this money from the security firm to any Country of',\n",
       " 'your choice for investment purpose.',\n",
       " 'So I will like you to be the ultimate beneficiary, so',\n",
       " 'that the funds can be moved in your name and',\n",
       " 'particulars to any Country of your choice where it',\n",
       " 'will be claimed and invested. Hence my father have had',\n",
       " 'intimated the security firm personnel that the',\n",
       " 'beneficiary of the box is his foreign partner whose',\n",
       " 'particulars will be forwarded to the firm when due.',\n",
       " 'But I will guide you Accordingly. As soon as the funds',\n",
       " 'reach, I will then come over to meet you in person, so',\n",
       " 'that we can discuss physically on investment',\n",
       " 'potentials. Based on this assistance my Family and I',\n",
       " 'have unanimously decided to give you 30% of the total',\n",
       " 'money, 5% for Charity home, 10% for expenses, which',\n",
       " 'may arise during this transaction, Fax and phone bills',\n",
       " 'inclusive. The balance of 55% you will invest andmanaged for my Family.',\n",
       " 'I hereby guarantee you that this is not government',\n",
       " 'money, it is not drug money and it is not money from',\n",
       " 'arms deal. Though you have to maintain high degree of',\n",
       " 'confidentiality on this matter. I will give more',\n",
       " 'details about the proceedings of this transaction as',\n",
       " 'soon as I receive your favorable reply.',\n",
       " 'Please reply to my Email Address:obong_715@epatra.com',\n",
       " 'I hope this will be the beginning of a prosperous',\n",
       " 'relationship between my family and your family.',\n",
       " 'Nevertheless if you are for any reason not interested,',\n",
       " 'kindly inform me immediately so that I will look foranother contact.',\n",
       " 'I am waiting for your quick response.',\n",
       " 'Yours faithfully,',\n",
       " 'Prince Obong Abbot']"
      ]
     },
     "execution_count": 191,
     "metadata": {},
     "output_type": "execute_result"
    }
   ],
   "source": [
    "data"
   ]
  },
  {
   "cell_type": "code",
   "execution_count": 192,
   "metadata": {},
   "outputs": [],
   "source": [
    "new=open('newtext.txt','w')\n",
    "for x in data:\n",
    "    new.write(x)"
   ]
  },
  {
   "cell_type": "code",
   "execution_count": 193,
   "metadata": {},
   "outputs": [
    {
     "data": {
      "text/plain": [
       "'From r  Thu Oct 31 08:11:39 2002Return-Path: <bensul2004nng@spinfinder.com>X-Sieve: cmu-sieve 2.0Return-Path: <bensul2004nng@spinfinder.com>Message-Id: <200210311310.g9VDANt24674@bloodwork.mr.itd.UM>From: \"Mr. Ben Suleman\" <bensul2004nng@spinfinder.com>Date: Thu, 31 Oct 2002 05:10:00To: R@MSubject: URGENT ASSISTANCE /RELATIONSHIP (P)MIME-Version: 1.0Content-Type: text/plain;charset=\"iso-8859-1\"Content-Transfer-Encoding: 7bitStatus: ODear Friend,I am Mr. Ben Suleman a custom officer and work as Assistant controller of the Customs and Excise department Of the Federal Ministry of Internal Affairs stationed at the Murtala Mohammed International Airport, Ikeja, Lagos-Nigeria.After the sudden death of the former Head of state of Nigeria General Sanni Abacha on June 8th 1998 his aides and immediate members of his family were arrested while trying to escape from Nigeria in a Chartered jet to Saudi Arabia with 6 trunk boxes Marked \"Diplomatic Baggage\". Acting on a tip-off as they attempted to board the Air Craft,my officials carried out a thorough search on the air craft and discovered that the 6 trunk boxes contained foreign currencies amounting to US$197,570,000.00(One Hundred and  Ninety-Seven Million Five Hundred Seventy Thousand United States Dollars).I declared only (5) five boxes to the government and withheld one (1) in my custody containing the sum of (US$30,000,000.00) Thirty Million United States Dollars Only, which has been disguised to prevent their being discovered during transportation process.Due to several media reports on the late head of state about all the money him and his co-government officials stole from our government treasury amountingto US$55 Billion Dollars (ref:ngrguardiannews.com) of July 2nd 1999. Even the London times of July 1998 reported that General Abacha has over US$3.Billion dollars in one account overseas. We decided to conceal this one (1)box till the situation is calm and quite on the issue. The box was thus deposited with a security company here in Nigeria and tagged as \"Precious Stones and Jewellry\" in other that itscontent will not be discovered. Now that all is calm, we (myself and two of my colleagues in the operations team) are now ready to move this box out of the country through a diplomatic arrangement which is the safest means.However as government officials the Civil Service Code of Conduct does not allow us by law to operate any foreign account or own foreign investment and the amount of money that can be found in our accountcannot be more than our salary on the average, thus our handicapp and our need for your assistance to help collect and keep safely in your account this money.Therefore we want you to assist us in moving this money out of Nigeria. We shall definitely compensate you handsomely for the assistance. We can do this by instructing the Security Company here in Nigeria tomove the consignment to their affiliate branch office outside Nigeria through diplomatic means and the consignment will be termed as Precious Stones and Jewelleries\" which you bought during your visit to Nigeria and is being transfered to your country from here for safe keeping. Then we can arrange to meet at the destination country to take the delivery of the consignment. You will thereafter open an account there and lodge the Money there and gradually instruct remittance to your Country.This business is 100% risk free for you so please treat this matter with utmost confidentiality .If you indicate your interest to assist us please just e-mail me for more Explanation on how we plan to execute the transaction.Expecting your response urgently.Best regards,Mr. Ben SulemanFrom r  Thu Oct 31 17:27:16 2002Return-Path: <obong_715@epatra.com>X-Sieve: cmu-sieve 2.0Return-Path: <obong_715@epatra.com>Message-Id: <200210312227.g9VMQvDj017948@bluewhale.cs.CU>From: \"PRINCE OBONG ELEME\" <obong_715@epatra.com>Reply-To: obong_715@epatra.comTo: webmaster@aclweb.orgDate: Thu, 31 Oct 2002 22:17:55 +0100Subject: GOOD DAY TO YOUX-Mailer: Microsoft Outlook Express 5.00.2919.6900DMMIME-Version: 1.0Content-Type: text/plain; charset=\"us-ascii\"Content-Transfer-Encoding: 8bitX-MIME-Autoconverted: from quoted-printable to 8bit by sideshowmel.si.UM id g9VMRBW20642Status: ROFROM HIS ROYAL MAJESTY (HRM) CROWN RULER OF ELEME KINGDOMCHIEF DANIEL ELEME, PHD, EZE 1 OF ELEME.E-MAILADDRESS:obong_715@epatra.comATTENTION:PRESIDENT,CEO Sir/ Madam.This letter might surprise you because we have metneither in person nor by correspondence. But I believeit is one day that you got to know somebody either inphysical or through correspondence.I got your contact through discreet inquiry from thechambers of commerce and industry of your country onthe net, you and your organization were revealed asbeing quite astute in private entrepreneurship, onehas no doubt in your ability to handle a financialbusiness transaction.However, I am the first son of His Royalmajesty,Obong.D. Eleme , and the traditional Ruler ofEleme Province in the oil producing area of RiverState of Nigeria. I am making this contact to you inrespect of US$60,000,000.00 (Sixty Million UnitedState Dollars), which I inherited, from my latefather.This money was accumulated from royalties paid to myfather as compensation by the oil firms located in ourarea as a result of oil presence on our land, whichhamper agriculture, which is our major source oflivelihood.Unfortunately my father died from protracteddiabetes.But before his death he called my attentionand informed me that he lodged some funds on a twoboxes with a security firm with an open beneficiarystatus. The lodgment security code number was alsorevealed to me, he then advised me to look for areliable business partner abroad, that will assist mein investing the money in a lucrative business as aresult of economic instability in Nigeria. So this isthe main reason why I am contacting you for us to movethis money from the security firm to any Country ofyour choice for investment purpose.So I will like you to be the ultimate beneficiary, sothat the funds can be moved in your name andparticulars to any Country of your choice where itwill be claimed and invested. Hence my father have hadintimated the security firm personnel that thebeneficiary of the box is his foreign partner whoseparticulars will be forwarded to the firm when due.But I will guide you Accordingly. As soon as the fundsreach, I will then come over to meet you in person, sothat we can discuss physically on investmentpotentials. Based on this assistance my Family and Ihave unanimously decided to give you 30% of the totalmoney, 5% for Charity home, 10% for expenses, whichmay arise during this transaction, Fax and phone billsinclusive. The balance of 55% you will invest andmanaged for my Family.I hereby guarantee you that this is not governmentmoney, it is not drug money and it is not money fromarms deal. Though you have to maintain high degree ofconfidentiality on this matter. I will give moredetails about the proceedings of this transaction assoon as I receive your favorable reply.Please reply to my Email Address:obong_715@epatra.comI hope this will be the beginning of a prosperousrelationship between my family and your family.Nevertheless if you are for any reason not interested,kindly inform me immediately so that I will look foranother contact.I am waiting for your quick response.Yours faithfully,Prince Obong Abbot'"
      ]
     },
     "execution_count": 193,
     "metadata": {},
     "output_type": "execute_result"
    }
   ],
   "source": [
    "new=open('newtext.txt','r')\n",
    "emails=new.read()\n",
    "emails"
   ]
  },
  {
   "cell_type": "code",
   "execution_count": 197,
   "metadata": {},
   "outputs": [
    {
     "data": {
      "text/plain": [
       "['',\n",
       " ' Thu Oct 31 08:11:39 2002Return-Path: <bensul2004nng@spinfinder.com>X-Sieve: cmu-sieve 2.0Return-Path: <bensul2004nng@spinfinder.com>Message-Id: <200210311310.g9VDANt24674@bloodwork.mr.itd.UM>From: \"Mr. Ben Suleman\" <bensul2004nng@spinfinder.com>Date: Thu, 31 Oct 2002 05:10:00To: R@MSubject: URGENT ASSISTANCE /RELATIONSHIP (P)MIME-Version: 1.0Content-Type: text/plain;charset=\"iso-8859-1\"Content-Transfer-Encoding: 7bitStatus: ODear Friend,I am Mr. Ben Suleman a custom officer and work as Assistant controller of the Customs and Excise department Of the Federal Ministry of Internal Affairs stationed at the Murtala Mohammed International Airport, Ikeja, Lagos-Nigeria.After the sudden death of the former Head of state of Nigeria General Sanni Abacha on June 8th 1998 his aides and immediate members of his family were arrested while trying to escape from Nigeria in a Chartered jet to Saudi Arabia with 6 trunk boxes Marked \"Diplomatic Baggage\". Acting on a tip-off as they attempted to board the Air Craft,my officials carried out a thorough search on the air craft and discovered that the 6 trunk boxes contained foreign currencies amounting to US$197,570,000.00(One Hundred and  Ninety-Seven Million Five Hundred Seventy Thousand United States Dollars).I declared only (5) five boxes to the government and withheld one (1) in my custody containing the sum of (US$30,000,000.00) Thirty Million United States Dollars Only, which has been disguised to prevent their being discovered during transportation process.Due to several media reports on the late head of state about all the money him and his co-government officials stole from our government treasury amountingto US$55 Billion Dollars (ref:ngrguardiannews.com) of July 2nd 1999. Even the London times of July 1998 reported that General Abacha has over US$3.Billion dollars in one account overseas. We decided to conceal this one (1)box till the situation is calm and quite on the issue. The box was thus deposited with a security company here in Nigeria and tagged as \"Precious Stones and Jewellry\" in other that itscontent will not be discovered. Now that all is calm, we (myself and two of my colleagues in the operations team) are now ready to move this box out of the country through a diplomatic arrangement which is the safest means.However as government officials the Civil Service Code of Conduct does not allow us by law to operate any foreign account or own foreign investment and the amount of money that can be found in our accountcannot be more than our salary on the average, thus our handicapp and our need for your assistance to help collect and keep safely in your account this money.Therefore we want you to assist us in moving this money out of Nigeria. We shall definitely compensate you handsomely for the assistance. We can do this by instructing the Security Company here in Nigeria tomove the consignment to their affiliate branch office outside Nigeria through diplomatic means and the consignment will be termed as Precious Stones and Jewelleries\" which you bought during your visit to Nigeria and is being transfered to your country from here for safe keeping. Then we can arrange to meet at the destination country to take the delivery of the consignment. You will thereafter open an account there and lodge the Money there and gradually instruct remittance to your Country.This business is 100% risk free for you so please treat this matter with utmost confidentiality .If you indicate your interest to assist us please just e-mail me for more Explanation on how we plan to execute the transaction.Expecting your response urgently.Best regards,Mr. Ben Suleman',\n",
       " ' Thu Oct 31 17:27:16 2002Return-Path: <obong_715@epatra.com>X-Sieve: cmu-sieve 2.0Return-Path: <obong_715@epatra.com>Message-Id: <200210312227.g9VMQvDj017948@bluewhale.cs.CU>From: \"PRINCE OBONG ELEME\" <obong_715@epatra.com>Reply-To: obong_715@epatra.comTo: webmaster@aclweb.orgDate: Thu, 31 Oct 2002 22:17:55 +0100Subject: GOOD DAY TO YOUX-Mailer: Microsoft Outlook Express 5.00.2919.6900DMMIME-Version: 1.0Content-Type: text/plain; charset=\"us-ascii\"Content-Transfer-Encoding: 8bitX-MIME-Autoconverted: from quoted-printable to 8bit by sideshowmel.si.UM id g9VMRBW20642Status: ROFROM HIS ROYAL MAJESTY (HRM) CROWN RULER OF ELEME KINGDOMCHIEF DANIEL ELEME, PHD, EZE 1 OF ELEME.E-MAILADDRESS:obong_715@epatra.comATTENTION:PRESIDENT,CEO Sir/ Madam.This letter might surprise you because we have metneither in person nor by correspondence. But I believeit is one day that you got to know somebody either inphysical or through correspondence.I got your contact through discreet inquiry from thechambers of commerce and industry of your country onthe net, you and your organization were revealed asbeing quite astute in private entrepreneurship, onehas no doubt in your ability to handle a financialbusiness transaction.However, I am the first son of His Royalmajesty,Obong.D. Eleme , and the traditional Ruler ofEleme Province in the oil producing area of RiverState of Nigeria. I am making this contact to you inrespect of US$60,000,000.00 (Sixty Million UnitedState Dollars), which I inherited, from my latefather.This money was accumulated from royalties paid to myfather as compensation by the oil firms located in ourarea as a result of oil presence on our land, whichhamper agriculture, which is our major source oflivelihood.Unfortunately my father died from protracteddiabetes.But before his death he called my attentionand informed me that he lodged some funds on a twoboxes with a security firm with an open beneficiarystatus. The lodgment security code number was alsorevealed to me, he then advised me to look for areliable business partner abroad, that will assist mein investing the money in a lucrative business as aresult of economic instability in Nigeria. So this isthe main reason why I am contacting you for us to movethis money from the security firm to any Country ofyour choice for investment purpose.So I will like you to be the ultimate beneficiary, sothat the funds can be moved in your name andparticulars to any Country of your choice where itwill be claimed and invested. Hence my father have hadintimated the security firm personnel that thebeneficiary of the box is his foreign partner whoseparticulars will be forwarded to the firm when due.But I will guide you Accordingly. As soon as the fundsreach, I will then come over to meet you in person, sothat we can discuss physically on investmentpotentials. Based on this assistance my Family and Ihave unanimously decided to give you 30% of the totalmoney, 5% for Charity home, 10% for expenses, whichmay arise during this transaction, Fax and phone billsinclusive. The balance of 55% you will invest andmanaged for my Family.I hereby guarantee you that this is not governmentmoney, it is not drug money and it is not money fromarms deal. Though you have to maintain high degree ofconfidentiality on this matter. I will give moredetails about the proceedings of this transaction assoon as I receive your favorable reply.Please reply to my Email Address:obong_715@epatra.comI hope this will be the beginning of a prosperousrelationship between my family and your family.Nevertheless if you are for any reason not interested,kindly inform me immediately so that I will look foranother contact.I am waiting for your quick response.Yours faithfully,Prince Obong Abbot']"
      ]
     },
     "execution_count": 197,
     "metadata": {},
     "output_type": "execute_result"
    }
   ],
   "source": [
    "emailList=emails.split('From r ')\n",
    "emailList"
   ]
  },
  {
   "cell_type": "code",
   "execution_count": 198,
   "metadata": {},
   "outputs": [
    {
     "data": {
      "text/plain": [
       "''"
      ]
     },
     "execution_count": 198,
     "metadata": {},
     "output_type": "execute_result"
    }
   ],
   "source": [
    "emailList.pop(0)"
   ]
  },
  {
   "cell_type": "code",
   "execution_count": 199,
   "metadata": {},
   "outputs": [
    {
     "data": {
      "text/plain": [
       "' Thu Oct 31 17:27:16 2002Return-Path: <obong_715@epatra.com>X-Sieve: cmu-sieve 2.0Return-Path: <obong_715@epatra.com>Message-Id: <200210312227.g9VMQvDj017948@bluewhale.cs.CU>From: \"PRINCE OBONG ELEME\" <obong_715@epatra.com>Reply-To: obong_715@epatra.comTo: webmaster@aclweb.orgDate: Thu, 31 Oct 2002 22:17:55 +0100Subject: GOOD DAY TO YOUX-Mailer: Microsoft Outlook Express 5.00.2919.6900DMMIME-Version: 1.0Content-Type: text/plain; charset=\"us-ascii\"Content-Transfer-Encoding: 8bitX-MIME-Autoconverted: from quoted-printable to 8bit by sideshowmel.si.UM id g9VMRBW20642Status: ROFROM HIS ROYAL MAJESTY (HRM) CROWN RULER OF ELEME KINGDOMCHIEF DANIEL ELEME, PHD, EZE 1 OF ELEME.E-MAILADDRESS:obong_715@epatra.comATTENTION:PRESIDENT,CEO Sir/ Madam.This letter might surprise you because we have metneither in person nor by correspondence. But I believeit is one day that you got to know somebody either inphysical or through correspondence.I got your contact through discreet inquiry from thechambers of commerce and industry of your country onthe net, you and your organization were revealed asbeing quite astute in private entrepreneurship, onehas no doubt in your ability to handle a financialbusiness transaction.However, I am the first son of His Royalmajesty,Obong.D. Eleme , and the traditional Ruler ofEleme Province in the oil producing area of RiverState of Nigeria. I am making this contact to you inrespect of US$60,000,000.00 (Sixty Million UnitedState Dollars), which I inherited, from my latefather.This money was accumulated from royalties paid to myfather as compensation by the oil firms located in ourarea as a result of oil presence on our land, whichhamper agriculture, which is our major source oflivelihood.Unfortunately my father died from protracteddiabetes.But before his death he called my attentionand informed me that he lodged some funds on a twoboxes with a security firm with an open beneficiarystatus. The lodgment security code number was alsorevealed to me, he then advised me to look for areliable business partner abroad, that will assist mein investing the money in a lucrative business as aresult of economic instability in Nigeria. So this isthe main reason why I am contacting you for us to movethis money from the security firm to any Country ofyour choice for investment purpose.So I will like you to be the ultimate beneficiary, sothat the funds can be moved in your name andparticulars to any Country of your choice where itwill be claimed and invested. Hence my father have hadintimated the security firm personnel that thebeneficiary of the box is his foreign partner whoseparticulars will be forwarded to the firm when due.But I will guide you Accordingly. As soon as the fundsreach, I will then come over to meet you in person, sothat we can discuss physically on investmentpotentials. Based on this assistance my Family and Ihave unanimously decided to give you 30% of the totalmoney, 5% for Charity home, 10% for expenses, whichmay arise during this transaction, Fax and phone billsinclusive. The balance of 55% you will invest andmanaged for my Family.I hereby guarantee you that this is not governmentmoney, it is not drug money and it is not money fromarms deal. Though you have to maintain high degree ofconfidentiality on this matter. I will give moredetails about the proceedings of this transaction assoon as I receive your favorable reply.Please reply to my Email Address:obong_715@epatra.comI hope this will be the beginning of a prosperousrelationship between my family and your family.Nevertheless if you are for any reason not interested,kindly inform me immediately so that I will look foranother contact.I am waiting for your quick response.Yours faithfully,Prince Obong Abbot'"
      ]
     },
     "execution_count": 199,
     "metadata": {},
     "output_type": "execute_result"
    }
   ],
   "source": [
    "emailList[1]"
   ]
  },
  {
   "cell_type": "code",
   "execution_count": 200,
   "metadata": {
    "scrolled": true
   },
   "outputs": [
    {
     "name": "stdout",
     "output_type": "stream",
     "text": [
      "bensul2004nng@spinfinder.com\n",
      "\"Mr. Ben Suleman\"\n",
      "R@MSubject: URGENT\n",
      "None\n",
      "['Thu Oct 31']\n",
      "Subject: URGENT ASSISTANCE /RELATIONSHIP\n",
      "\n",
      "obong_715@epatra.com>Reply\n",
      "\"PRINCE OBONG ELEME\"\n",
      "obong_715@epatra.co\n",
      "None\n",
      "['Thu Oct 31']\n",
      "Subject: GOOD DAY TO YOUX-Mailer: Micros\n",
      "\n"
     ]
    }
   ],
   "source": [
    "# printing\n",
    "import email\n",
    "for content in emailList:\n",
    "    text=re.search(r'From:.{49}',content)\n",
    "\n",
    "    sender_email=re.search(r'\\w\\S*@.*\\w',text.group())\n",
    "    print(sender_email.group())\n",
    "    \n",
    "    sender_name=re.search(r'[\\\"][A-Z].*[\\\"]',text.group())\n",
    "    print(sender_name.group())\n",
    "    \n",
    "    recepient=re.search(r'To:.{20}',content)\n",
    "    \n",
    "    recepient_email=re.search(r'\\w\\S*@.*\\w',recepient.group())\n",
    "    print(recepient_email.group())\n",
    "    \n",
    "    recepient_name=re.search(r':.*<',recepient.group())\n",
    "    print( recepient_name)\n",
    "    \n",
    "    date=re.findall(r'[A-Z]{1}[a-z]{2}\\s[A-Za-z]{3}\\s[\\d]{2}',content)\n",
    "    print(date)\n",
    "    \n",
    "    subject=re.search(r'Subject: .{31}',content)\n",
    "    print(subject.group())\n",
    "    \n",
    " \n",
    "    mail = email.message_from_string(content)\n",
    "    email_body=mail.get_payload()\n",
    "    print(email_body)"
   ]
  }
 ],
 "metadata": {
  "kernelspec": {
   "display_name": "Python 3",
   "language": "python",
   "name": "python3"
  },
  "language_info": {
   "codemirror_mode": {
    "name": "ipython",
    "version": 3
   },
   "file_extension": ".py",
   "mimetype": "text/x-python",
   "name": "python",
   "nbconvert_exporter": "python",
   "pygments_lexer": "ipython3",
   "version": "3.8.5"
  }
 },
 "nbformat": 4,
 "nbformat_minor": 4
}
